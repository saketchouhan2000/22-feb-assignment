{
 "cells": [
  {
   "cell_type": "code",
   "execution_count": 1,
   "id": "a8b971ad-09e1-4ddd-bb61-877c5abf1cfa",
   "metadata": {},
   "outputs": [],
   "source": [
    "# Q1. Create a Pandas Series that contains the following data: 4, 8, 15, 16, 23, and 42. Then, print the series."
   ]
  },
  {
   "cell_type": "code",
   "execution_count": 10,
   "id": "40e65567-2732-421c-86da-570f9811d8b7",
   "metadata": {},
   "outputs": [],
   "source": [
    "# Ans\n",
    "import pandas as pd"
   ]
  },
  {
   "cell_type": "code",
   "execution_count": 11,
   "id": "d501c673-b68d-4892-bb2b-d7cf61c259d2",
   "metadata": {},
   "outputs": [],
   "source": [
    "ds =pd.Series([4, 8, 15, 16, 23,42,])"
   ]
  },
  {
   "cell_type": "code",
   "execution_count": 12,
   "id": "51336ccf-d591-47dd-a5e9-17c5c0ce2e79",
   "metadata": {},
   "outputs": [
    {
     "name": "stdout",
     "output_type": "stream",
     "text": [
      "0     4\n",
      "1     8\n",
      "2    15\n",
      "3    16\n",
      "4    23\n",
      "5    42\n",
      "dtype: int64\n"
     ]
    }
   ],
   "source": [
    "print (ds)"
   ]
  },
  {
   "cell_type": "code",
   "execution_count": 13,
   "id": "8fab94ad-82f0-4537-9fac-aecf5c3ca57d",
   "metadata": {},
   "outputs": [],
   "source": [
    "# Q2. Create a variable of list type containing 10 elements in it, and apply pandas.Series function on the\n",
    "# variable print it."
   ]
  },
  {
   "cell_type": "code",
   "execution_count": 14,
   "id": "c028ce5a-5023-424d-b859-ff90c8cf89ad",
   "metadata": {},
   "outputs": [],
   "source": [
    "# Ans\n",
    "my_list=[1,2,3,4,5,6,7,8,9,10]"
   ]
  },
  {
   "cell_type": "code",
   "execution_count": 17,
   "id": "980867ca-5aee-4b61-a59e-71922204607c",
   "metadata": {},
   "outputs": [],
   "source": [
    "my_series=pd.Series(my_list)"
   ]
  },
  {
   "cell_type": "code",
   "execution_count": 18,
   "id": "703c25f8-2f3c-4cd2-94e0-2a6cbfe4b87b",
   "metadata": {},
   "outputs": [
    {
     "name": "stdout",
     "output_type": "stream",
     "text": [
      "0     1\n",
      "1     2\n",
      "2     3\n",
      "3     4\n",
      "4     5\n",
      "5     6\n",
      "6     7\n",
      "7     8\n",
      "8     9\n",
      "9    10\n",
      "dtype: int64\n"
     ]
    }
   ],
   "source": [
    "print(my_series)"
   ]
  },
  {
   "cell_type": "code",
   "execution_count": 19,
   "id": "42524ebd-c713-473c-a9a1-1544f97415e5",
   "metadata": {},
   "outputs": [],
   "source": [
    "# Q3. Create a Pandas DataFrame that contains the following data:"
   ]
  },
  {
   "cell_type": "code",
   "execution_count": 21,
   "id": "44f63d17-91a5-4f02-b10b-e95d20f24413",
   "metadata": {},
   "outputs": [],
   "source": [
    "# Ans\n",
    "df=pd.DataFrame({'Name':['Alice','Bob','Claire'],'Age':[25,30,27],'Gender':['Female','Male','Female']})"
   ]
  },
  {
   "cell_type": "code",
   "execution_count": 22,
   "id": "d812306d-311f-4f24-bec4-b3b2c9717cd6",
   "metadata": {},
   "outputs": [
    {
     "name": "stdout",
     "output_type": "stream",
     "text": [
      "     Name  Age  Gender\n",
      "0   Alice   25  Female\n",
      "1     Bob   30    Male\n",
      "2  Claire   27  Female\n"
     ]
    }
   ],
   "source": [
    "print(df)"
   ]
  },
  {
   "cell_type": "code",
   "execution_count": 23,
   "id": "3421e792-0b95-4ac4-9d9a-c3a9129650ff",
   "metadata": {
    "tags": []
   },
   "outputs": [],
   "source": [
    "# Q4. What is ‘DataFrame’ in pandas and how is it different from pandas.series? Explain with an example."
   ]
  },
  {
   "cell_type": "code",
   "execution_count": 24,
   "id": "5bbb9ce6-190a-46b2-9bc6-cfb26487c00d",
   "metadata": {},
   "outputs": [],
   "source": [
    "# Ans Data Frame= data frame is a two- dimesional table like data who consist multiple of column & rows. We can also say that\n",
    "# the datafram is collection of series.\n",
    "# Series= series i a one- dimesional array-that can hold data of a single data type.\n",
    "# Example"
   ]
  },
  {
   "cell_type": "code",
   "execution_count": 25,
   "id": "fc142bcf-2ac7-4d35-8b96-b6b2b18e4df2",
   "metadata": {},
   "outputs": [
    {
     "data": {
      "text/html": [
       "<div>\n",
       "<style scoped>\n",
       "    .dataframe tbody tr th:only-of-type {\n",
       "        vertical-align: middle;\n",
       "    }\n",
       "\n",
       "    .dataframe tbody tr th {\n",
       "        vertical-align: top;\n",
       "    }\n",
       "\n",
       "    .dataframe thead th {\n",
       "        text-align: right;\n",
       "    }\n",
       "</style>\n",
       "<table border=\"1\" class=\"dataframe\">\n",
       "  <thead>\n",
       "    <tr style=\"text-align: right;\">\n",
       "      <th></th>\n",
       "      <th>name</th>\n",
       "      <th>age</th>\n",
       "      <th>city</th>\n",
       "    </tr>\n",
       "  </thead>\n",
       "  <tbody>\n",
       "    <tr>\n",
       "      <th>0</th>\n",
       "      <td>Saket</td>\n",
       "      <td>20</td>\n",
       "      <td>delhi</td>\n",
       "    </tr>\n",
       "    <tr>\n",
       "      <th>1</th>\n",
       "      <td>Rohit</td>\n",
       "      <td>22</td>\n",
       "      <td>lucknow</td>\n",
       "    </tr>\n",
       "    <tr>\n",
       "      <th>2</th>\n",
       "      <td>mohit</td>\n",
       "      <td>19</td>\n",
       "      <td>ahmedabad</td>\n",
       "    </tr>\n",
       "  </tbody>\n",
       "</table>\n",
       "</div>"
      ],
      "text/plain": [
       "    name  age       city\n",
       "0  Saket   20      delhi\n",
       "1  Rohit   22    lucknow\n",
       "2  mohit   19  ahmedabad"
      ]
     },
     "execution_count": 25,
     "metadata": {},
     "output_type": "execute_result"
    }
   ],
   "source": [
    "pd.DataFrame({'name':['Saket','Rohit','mohit'],'age':[20,22,19],'city':['delhi','lucknow','ahmedabad']})"
   ]
  },
  {
   "cell_type": "code",
   "execution_count": 26,
   "id": "1d53e4e7-4f41-49eb-9673-21cbfaef2bdc",
   "metadata": {},
   "outputs": [
    {
     "data": {
      "text/plain": [
       "0    2\n",
       "1    4\n",
       "2    5\n",
       "3    6\n",
       "4    7\n",
       "5    8\n",
       "dtype: int64"
      ]
     },
     "execution_count": 26,
     "metadata": {},
     "output_type": "execute_result"
    }
   ],
   "source": [
    "# above table is a data frame because its consist multiple row and columns \n",
    "pd.Series([2,4,5,6,7,8])"
   ]
  },
  {
   "cell_type": "code",
   "execution_count": 27,
   "id": "7ae20cac-b77d-4025-8358-ed760457fbda",
   "metadata": {},
   "outputs": [],
   "source": [
    "# above data is a series because its consist single column"
   ]
  },
  {
   "cell_type": "code",
   "execution_count": 28,
   "id": "f4bff8b1-7a41-430a-923d-5a611c99c26c",
   "metadata": {},
   "outputs": [],
   "source": [
    "# Q5. What are some common functions you can use to manipulate data in a Pandas DataFrame? Can\n",
    "# you give an example of when you might use one of these functions?"
   ]
  },
  {
   "cell_type": "code",
   "execution_count": 30,
   "id": "a9727b37-ee8a-44a5-91f8-6e3d5f7d3965",
   "metadata": {},
   "outputs": [],
   "source": [
    "# Ans Pandas provide many built-in function to manipulate the data. some of the functions are apply, loc $ iloc, \n",
    "# fillna, merge, join, drop etc. \n",
    "# Example"
   ]
  },
  {
   "cell_type": "code",
   "execution_count": 35,
   "id": "caf4687d-a8f3-4841-8c15-fb3abb9bb889",
   "metadata": {},
   "outputs": [],
   "source": [
    "data=pd.DataFrame({'name':['Saket','Rohit','mohit','Chandan'],'age':[20,22,19,18],'city':['delhi','lucknow','ahmedabad','kolkata']})"
   ]
  },
  {
   "cell_type": "code",
   "execution_count": 36,
   "id": "29eb8a4d-bb04-48c7-bfc0-4312fa237135",
   "metadata": {},
   "outputs": [
    {
     "data": {
      "text/html": [
       "<div>\n",
       "<style scoped>\n",
       "    .dataframe tbody tr th:only-of-type {\n",
       "        vertical-align: middle;\n",
       "    }\n",
       "\n",
       "    .dataframe tbody tr th {\n",
       "        vertical-align: top;\n",
       "    }\n",
       "\n",
       "    .dataframe thead th {\n",
       "        text-align: right;\n",
       "    }\n",
       "</style>\n",
       "<table border=\"1\" class=\"dataframe\">\n",
       "  <thead>\n",
       "    <tr style=\"text-align: right;\">\n",
       "      <th></th>\n",
       "      <th>name</th>\n",
       "      <th>age</th>\n",
       "      <th>city</th>\n",
       "    </tr>\n",
       "  </thead>\n",
       "  <tbody>\n",
       "    <tr>\n",
       "      <th>0</th>\n",
       "      <td>Saket</td>\n",
       "      <td>20</td>\n",
       "      <td>delhi</td>\n",
       "    </tr>\n",
       "    <tr>\n",
       "      <th>1</th>\n",
       "      <td>Rohit</td>\n",
       "      <td>22</td>\n",
       "      <td>lucknow</td>\n",
       "    </tr>\n",
       "    <tr>\n",
       "      <th>2</th>\n",
       "      <td>mohit</td>\n",
       "      <td>19</td>\n",
       "      <td>ahmedabad</td>\n",
       "    </tr>\n",
       "    <tr>\n",
       "      <th>3</th>\n",
       "      <td>Chandan</td>\n",
       "      <td>18</td>\n",
       "      <td>kolkata</td>\n",
       "    </tr>\n",
       "  </tbody>\n",
       "</table>\n",
       "</div>"
      ],
      "text/plain": [
       "      name  age       city\n",
       "0    Saket   20      delhi\n",
       "1    Rohit   22    lucknow\n",
       "2    mohit   19  ahmedabad\n",
       "3  Chandan   18    kolkata"
      ]
     },
     "execution_count": 36,
     "metadata": {},
     "output_type": "execute_result"
    }
   ],
   "source": [
    "data"
   ]
  },
  {
   "cell_type": "code",
   "execution_count": 39,
   "id": "c0bc6b56-51ad-45e4-b03d-b53a6d3e79f7",
   "metadata": {},
   "outputs": [
    {
     "data": {
      "text/html": [
       "<div>\n",
       "<style scoped>\n",
       "    .dataframe tbody tr th:only-of-type {\n",
       "        vertical-align: middle;\n",
       "    }\n",
       "\n",
       "    .dataframe tbody tr th {\n",
       "        vertical-align: top;\n",
       "    }\n",
       "\n",
       "    .dataframe thead th {\n",
       "        text-align: right;\n",
       "    }\n",
       "</style>\n",
       "<table border=\"1\" class=\"dataframe\">\n",
       "  <thead>\n",
       "    <tr style=\"text-align: right;\">\n",
       "      <th></th>\n",
       "      <th>name</th>\n",
       "      <th>age</th>\n",
       "      <th>city</th>\n",
       "    </tr>\n",
       "  </thead>\n",
       "  <tbody>\n",
       "    <tr>\n",
       "      <th>0</th>\n",
       "      <td>Saket</td>\n",
       "      <td>20</td>\n",
       "      <td>delhi</td>\n",
       "    </tr>\n",
       "    <tr>\n",
       "      <th>1</th>\n",
       "      <td>Rohit</td>\n",
       "      <td>22</td>\n",
       "      <td>lucknow</td>\n",
       "    </tr>\n",
       "    <tr>\n",
       "      <th>3</th>\n",
       "      <td>Chandan</td>\n",
       "      <td>18</td>\n",
       "      <td>kolkata</td>\n",
       "    </tr>\n",
       "  </tbody>\n",
       "</table>\n",
       "</div>"
      ],
      "text/plain": [
       "      name  age     city\n",
       "0    Saket   20    delhi\n",
       "1    Rohit   22  lucknow\n",
       "3  Chandan   18  kolkata"
      ]
     },
     "execution_count": 39,
     "metadata": {},
     "output_type": "execute_result"
    }
   ],
   "source": [
    "data.drop(2)"
   ]
  },
  {
   "cell_type": "code",
   "execution_count": 41,
   "id": "12b216ee-768b-46f2-8244-a2539d07e4b3",
   "metadata": {},
   "outputs": [
    {
     "data": {
      "text/html": [
       "<div>\n",
       "<style scoped>\n",
       "    .dataframe tbody tr th:only-of-type {\n",
       "        vertical-align: middle;\n",
       "    }\n",
       "\n",
       "    .dataframe tbody tr th {\n",
       "        vertical-align: top;\n",
       "    }\n",
       "\n",
       "    .dataframe thead th {\n",
       "        text-align: right;\n",
       "    }\n",
       "</style>\n",
       "<table border=\"1\" class=\"dataframe\">\n",
       "  <thead>\n",
       "    <tr style=\"text-align: right;\">\n",
       "      <th></th>\n",
       "      <th>name</th>\n",
       "      <th>age</th>\n",
       "      <th>city</th>\n",
       "    </tr>\n",
       "  </thead>\n",
       "  <tbody>\n",
       "    <tr>\n",
       "      <th>0</th>\n",
       "      <td>Saket</td>\n",
       "      <td>20</td>\n",
       "      <td>delhi</td>\n",
       "    </tr>\n",
       "    <tr>\n",
       "      <th>1</th>\n",
       "      <td>Rohit</td>\n",
       "      <td>22</td>\n",
       "      <td>lucknow</td>\n",
       "    </tr>\n",
       "    <tr>\n",
       "      <th>2</th>\n",
       "      <td>mohit</td>\n",
       "      <td>19</td>\n",
       "      <td>ahmedabad</td>\n",
       "    </tr>\n",
       "  </tbody>\n",
       "</table>\n",
       "</div>"
      ],
      "text/plain": [
       "    name  age       city\n",
       "0  Saket   20      delhi\n",
       "1  Rohit   22    lucknow\n",
       "2  mohit   19  ahmedabad"
      ]
     },
     "execution_count": 41,
     "metadata": {},
     "output_type": "execute_result"
    }
   ],
   "source": [
    "data.loc[0:2]"
   ]
  },
  {
   "cell_type": "code",
   "execution_count": 42,
   "id": "9281e16b-76a7-4bbe-9923-6c4bdba13671",
   "metadata": {},
   "outputs": [],
   "source": [
    "# Q6. Which of the following is mutable in nature Series, DataFrame, Panel?"
   ]
  },
  {
   "cell_type": "code",
   "execution_count": 43,
   "id": "2d9a0735-f65e-42e1-8ade-07df1851223b",
   "metadata": {},
   "outputs": [],
   "source": [
    "# When we say that Series and DataFrame are mutable, it means that we can modify their values, add or remove \n",
    "# rows or columns, or perform other operations that change the contents of the object."
   ]
  },
  {
   "cell_type": "code",
   "execution_count": 44,
   "id": "ad8f89aa-8c94-4a07-9258-29a36c40e0c4",
   "metadata": {},
   "outputs": [],
   "source": [
    "# Q7. Create a DataFrame using multiple Series. Explain with an example."
   ]
  },
  {
   "cell_type": "code",
   "execution_count": 45,
   "id": "65415fa4-3d2d-42f6-8202-d13be9092b11",
   "metadata": {},
   "outputs": [],
   "source": [
    "# in pandas we create data frame using multiple series\n",
    "books=pd.Series(['math','physics','chemistry','englis'])\n",
    "marks=pd.Series([88,95,86,75])\n",
    "grade=pd.Series(['A','A+','A','B+'])"
   ]
  },
  {
   "cell_type": "code",
   "execution_count": 46,
   "id": "e51138e1-0402-4e52-89dc-0c6e16aff8a2",
   "metadata": {},
   "outputs": [],
   "source": [
    "df=pd.DataFrame({'books':books,'marks':marks,'grade':grade})"
   ]
  },
  {
   "cell_type": "code",
   "execution_count": 47,
   "id": "d0e34679-0d61-4056-853a-cfb66d5ed51e",
   "metadata": {},
   "outputs": [
    {
     "data": {
      "text/html": [
       "<div>\n",
       "<style scoped>\n",
       "    .dataframe tbody tr th:only-of-type {\n",
       "        vertical-align: middle;\n",
       "    }\n",
       "\n",
       "    .dataframe tbody tr th {\n",
       "        vertical-align: top;\n",
       "    }\n",
       "\n",
       "    .dataframe thead th {\n",
       "        text-align: right;\n",
       "    }\n",
       "</style>\n",
       "<table border=\"1\" class=\"dataframe\">\n",
       "  <thead>\n",
       "    <tr style=\"text-align: right;\">\n",
       "      <th></th>\n",
       "      <th>books</th>\n",
       "      <th>marks</th>\n",
       "      <th>grade</th>\n",
       "    </tr>\n",
       "  </thead>\n",
       "  <tbody>\n",
       "    <tr>\n",
       "      <th>0</th>\n",
       "      <td>math</td>\n",
       "      <td>88</td>\n",
       "      <td>A</td>\n",
       "    </tr>\n",
       "    <tr>\n",
       "      <th>1</th>\n",
       "      <td>physics</td>\n",
       "      <td>95</td>\n",
       "      <td>A+</td>\n",
       "    </tr>\n",
       "    <tr>\n",
       "      <th>2</th>\n",
       "      <td>chemistry</td>\n",
       "      <td>86</td>\n",
       "      <td>A</td>\n",
       "    </tr>\n",
       "    <tr>\n",
       "      <th>3</th>\n",
       "      <td>englis</td>\n",
       "      <td>75</td>\n",
       "      <td>B+</td>\n",
       "    </tr>\n",
       "  </tbody>\n",
       "</table>\n",
       "</div>"
      ],
      "text/plain": [
       "       books  marks grade\n",
       "0       math     88     A\n",
       "1    physics     95    A+\n",
       "2  chemistry     86     A\n",
       "3     englis     75    B+"
      ]
     },
     "execution_count": 47,
     "metadata": {},
     "output_type": "execute_result"
    }
   ],
   "source": [
    "df"
   ]
  },
  {
   "cell_type": "code",
   "execution_count": 48,
   "id": "e52a1a08-b8ed-4c0b-b748-761ec105c9b0",
   "metadata": {},
   "outputs": [],
   "source": [
    "# So now we can see that we can create the dataframe using multiple series"
   ]
  },
  {
   "cell_type": "code",
   "execution_count": null,
   "id": "60a199ba-65a6-4087-bd81-34a10ea48175",
   "metadata": {},
   "outputs": [],
   "source": []
  }
 ],
 "metadata": {
  "kernelspec": {
   "display_name": "Python 3 (ipykernel)",
   "language": "python",
   "name": "python3"
  },
  "language_info": {
   "codemirror_mode": {
    "name": "ipython",
    "version": 3
   },
   "file_extension": ".py",
   "mimetype": "text/x-python",
   "name": "python",
   "nbconvert_exporter": "python",
   "pygments_lexer": "ipython3",
   "version": "3.10.8"
  }
 },
 "nbformat": 4,
 "nbformat_minor": 5
}
